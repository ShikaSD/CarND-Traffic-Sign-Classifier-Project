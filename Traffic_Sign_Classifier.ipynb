{
 "cells": [
  {
   "cell_type": "markdown",
   "metadata": {
    "deletable": true,
    "editable": true
   },
   "source": [
    "# Self-Driving Car Engineer Nanodegree\n",
    "\n",
    "## Deep Learning\n",
    "\n",
    "## Project: Build a Traffic Sign Recognition Classifier\n",
    "\n",
    "In this notebook, a template is provided for you to implement your functionality in stages, which is required to successfully complete this project. If additional code is required that cannot be included in the notebook, be sure that the Python code is successfully imported and included in your submission if necessary. \n",
    "\n",
    "> **Note**: Once you have completed all of the code implementations, you need to finalize your work by exporting the iPython Notebook as an HTML document. Before exporting the notebook to html, all of the code cells need to have been run so that reviewers can see the final implementation and output. You can then export the notebook by using the menu above and navigating to  \\n\",\n",
    "    \"**File -> Download as -> HTML (.html)**. Include the finished document along with this notebook as your submission. \n",
    "\n",
    "In addition to implementing code, there is a writeup to complete. The writeup should be completed in a separate file, which can be either a markdown file or a pdf document. There is a [write up template](https://github.com/udacity/CarND-Traffic-Sign-Classifier-Project/blob/master/writeup_template.md) that can be used to guide the writing process. Completing the code template and writeup template will cover all of the [rubric points](https://review.udacity.com/#!/rubrics/481/view) for this project.\n",
    "\n",
    "The [rubric](https://review.udacity.com/#!/rubrics/481/view) contains \"Stand Out Suggestions\" for enhancing the project beyond the minimum requirements. The stand out suggestions are optional. If you decide to pursue the \"stand out suggestions\", you can include the code in this Ipython notebook and also discuss the results in the writeup file.\n",
    "\n",
    "\n",
    ">**Note:** Code and Markdown cells can be executed using the **Shift + Enter** keyboard shortcut. In addition, Markdown cells can be edited by typically double-clicking the cell to enter edit mode."
   ]
  },
  {
   "cell_type": "markdown",
   "metadata": {
    "deletable": true,
    "editable": true
   },
   "source": [
    "---\n",
    "## Step 0: Load The Data"
   ]
  },
  {
   "cell_type": "code",
   "execution_count": 1,
   "metadata": {
    "collapsed": false,
    "deletable": true,
    "editable": true
   },
   "outputs": [],
   "source": [
    "# Load pickled data\n",
    "import pickle\n",
    "\n",
    "training_file = './traffic-signs-data/train.p'\n",
    "validation_file = './traffic-signs-data/valid.p'\n",
    "testing_file = './traffic-signs-data/test.p'\n",
    "\n",
    "with open(training_file, mode='rb') as f:\n",
    "    train = pickle.load(f)\n",
    "with open(validation_file, mode='rb') as f:\n",
    "    valid = pickle.load(f)\n",
    "with open(testing_file, mode='rb') as f:\n",
    "    test = pickle.load(f)\n",
    "    \n",
    "X_train, y_train = train['features'], train['labels']\n",
    "X_valid, y_valid = valid['features'], valid['labels']\n",
    "X_test, y_test = test['features'], test['labels']"
   ]
  },
  {
   "cell_type": "markdown",
   "metadata": {
    "deletable": true,
    "editable": true
   },
   "source": [
    "---\n",
    "\n",
    "## Step 1: Dataset Summary & Exploration\n",
    "\n",
    "The pickled data is a dictionary with 4 key/value pairs:\n",
    "\n",
    "- `'features'` is a 4D array containing raw pixel data of the traffic sign images, (num examples, width, height, channels).\n",
    "- `'labels'` is a 1D array containing the label/class id of the traffic sign. The file `signnames.csv` contains id -> name mappings for each id.\n",
    "- `'sizes'` is a list containing tuples, (width, height) representing the original width and height the image.\n",
    "- `'coords'` is a list containing tuples, (x1, y1, x2, y2) representing coordinates of a bounding box around the sign in the image. **THESE COORDINATES ASSUME THE ORIGINAL IMAGE. THE PICKLED DATA CONTAINS RESIZED VERSIONS (32 by 32) OF THESE IMAGES**\n",
    "\n",
    "Complete the basic data summary below. Use python, numpy and/or pandas methods to calculate the data summary rather than hard coding the results. For example, the [pandas shape method](http://pandas.pydata.org/pandas-docs/stable/generated/pandas.DataFrame.shape.html) might be useful for calculating some of the summary results. "
   ]
  },
  {
   "cell_type": "markdown",
   "metadata": {
    "deletable": true,
    "editable": true
   },
   "source": [
    "### Provide a Basic Summary of the Data Set Using Python, Numpy and/or Pandas"
   ]
  },
  {
   "cell_type": "code",
   "execution_count": 2,
   "metadata": {
    "collapsed": false,
    "deletable": true,
    "editable": true
   },
   "outputs": [
    {
     "name": "stdout",
     "output_type": "stream",
     "text": [
      "Number of training examples = 34799\n",
      "Number of testing examples = 12630\n",
      "Image data shape = (32, 32, 3)\n",
      "Number of classes = 43\n"
     ]
    }
   ],
   "source": [
    "import numpy as np\n",
    "\n",
    "n_train = len(X_train)\n",
    "n_test = len(X_test)\n",
    "image_shape = np.shape(X_train[0])\n",
    "n_classes = len(set(y_test))\n",
    "\n",
    "print(\"Number of training examples =\", n_train)\n",
    "print(\"Number of testing examples =\", n_test)\n",
    "print(\"Image data shape =\", image_shape)\n",
    "print(\"Number of classes =\", n_classes)"
   ]
  },
  {
   "cell_type": "markdown",
   "metadata": {
    "deletable": true,
    "editable": true
   },
   "source": [
    "### Include an exploratory visualization of the dataset"
   ]
  },
  {
   "cell_type": "markdown",
   "metadata": {
    "deletable": true,
    "editable": true
   },
   "source": [
    "Visualize the German Traffic Signs Dataset using the pickled file(s). This is open ended, suggestions include: plotting traffic sign images, plotting the count of each sign, etc.\n",
    "\n",
    "The [Matplotlib](http://matplotlib.org/) [examples](http://matplotlib.org/examples/index.html) and [gallery](http://matplotlib.org/gallery.html) pages are a great resource for doing visualizations in Python.\n",
    "\n",
    "**NOTE:** It's recommended you start with something simple first. If you wish to do more, come back to it after you've completed the rest of the sections."
   ]
  },
  {
   "cell_type": "code",
   "execution_count": 3,
   "metadata": {
    "collapsed": false,
    "deletable": true,
    "editable": true
   },
   "outputs": [
    {
     "data": {
      "image/png": "[encoded data removed]",
      "text/plain": [
       "<matplotlib.figure.Figure at 0x109161e48>"
      ]
     },
     "metadata": {},
     "output_type": "display_data"
    }
   ],
   "source": [
    "import matplotlib.pyplot as plt\n",
    "import random\n",
    "import cv2\n",
    "\n",
    "# Visualizations will be shown in the notebook.\n",
    "%matplotlib inline\n",
    "\n",
    "y_list = list(y_train)\n",
    "X_list = list(X_train)\n",
    "number_of_items = [y_list.count(x) for x in range(0, n_classes)]\n",
    "plt.plot(range(0, n_classes), number_of_items, 'ro')\n",
    "plt.show()"
   ]
  },
  {
   "cell_type": "code",
   "execution_count": 4,
   "metadata": {
    "collapsed": false,
    "deletable": true,
    "editable": true,
    "scrolled": true
   },
   "outputs": [
    {
     "data": {
      "text/plain": [
       "<matplotlib.image.AxesImage at 0x12a3c34a8>"
      ]
     },
     "execution_count": 4,
     "metadata": {},
     "output_type": "execute_result"
    },
    {
     "data": {
      "image/png": "[encoded data removed]",
      "text/plain": [
       "<matplotlib.figure.Figure at 0x12a3e1438>"
      ]
     },
     "metadata": {},
     "output_type": "display_data"
    }
   ],
   "source": [
    "index = random.randint(0, len(X_train))\n",
    "image = X_train[index]\n",
    "plt.imshow(image)"
   ]
  },
  {
   "cell_type": "markdown",
   "metadata": {
    "deletable": true,
    "editable": true
   },
   "source": [
    "----\n",
    "\n",
    "## Step 2: Design and Test a Model Architecture\n",
    "\n",
    "Design and implement a deep learning model that learns to recognize traffic signs. Train and test your model on the [German Traffic Sign Dataset](http://benchmark.ini.rub.de/?section=gtsrb&subsection=dataset).\n",
    "\n",
    "The LeNet-5 implementation shown in the [classroom](https://classroom.udacity.com/nanodegrees/nd013/parts/fbf77062-5703-404e-b60c-95b78b2f3f9e/modules/6df7ae49-c61c-4bb2-a23e-6527e69209ec/lessons/601ae704-1035-4287-8b11-e2c2716217ad/concepts/d4aca031-508f-4e0b-b493-e7b706120f81) at the end of the CNN lesson is a solid starting point. You'll have to change the number of classes and possibly the preprocessing, but aside from that it's plug and play! \n",
    "\n",
    "With the LeNet-5 solution from the lecture, you should expect a validation set accuracy of about 0.89. To meet specifications, the validation set accuracy will need to be at least 0.93. It is possible to get an even higher accuracy, but 0.93 is the minimum for a successful project submission. \n",
    "\n",
    "There are various aspects to consider when thinking about this problem:\n",
    "\n",
    "- Neural network architecture (is the network over or underfitting?)\n",
    "- Play around preprocessing techniques (normalization, rgb to grayscale, etc)\n",
    "- Number of examples per label (some have more than others).\n",
    "- Generate fake data.\n",
    "\n",
    "Here is an example of a [published baseline model on this problem](http://yann.lecun.com/exdb/publis/pdf/sermanet-ijcnn-11.pdf). It's not required to be familiar with the approach used in the paper but, it's good practice to try to read papers like these."
   ]
  },
  {
   "cell_type": "markdown",
   "metadata": {
    "deletable": true,
    "editable": true
   },
   "source": [
    "### Pre-process the Data Set (normalization, grayscale, etc.)"
   ]
  },
  {
   "cell_type": "markdown",
   "metadata": {
    "deletable": true,
    "editable": true
   },
   "source": [
    "Use the code cell (or multiple code cells, if necessary) to implement the first step of your project."
   ]
  },
  {
   "cell_type": "code",
   "execution_count": 15,
   "metadata": {
    "collapsed": true,
    "deletable": true,
    "editable": true
   },
   "outputs": [],
   "source": [
    "def augment(label, number, angle=15, transform_dev=10, mu=3, stddev=10, rate=1):\n",
    "    if number == 0:\n",
    "        return (0, [])\n",
    "    \n",
    "    indices = np.where(y_train == label)\n",
    "    images = X_train[indices]\n",
    "    result = list()\n",
    "    \n",
    "    if len(images) == 0:\n",
    "        return (0, [])\n",
    "    \n",
    "    for i in range(0, int(number * rate)):\n",
    "        if len(images) <= 1:\n",
    "            index = 0\n",
    "        else:    \n",
    "            index = random.randint(0, len(images) - 1)\n",
    "            \n",
    "        image = images[index]\n",
    "        # Actual augmentation\n",
    "        rotation = random.uniform(-angle, +angle)\n",
    "        rotation_matrix = cv2.getRotationMatrix2D((image.shape[1] / 2, image.shape[0] / 2), rotation, 1)\n",
    "        affine1 = np.float32([[0,0],[0,32],[32,0]])\n",
    "        affine2 = np.float32([[\n",
    "            random.randint(0, transform_dev), \n",
    "            random.randint(0, transform_dev)\n",
    "        ],[\n",
    "            random.randint(0, transform_dev),\n",
    "            32 - random.randint(0, transform_dev)\n",
    "        ],[\n",
    "            32 - random.randint(0, transform_dev),\n",
    "            random.randint(0, transform_dev)\n",
    "        ]])\n",
    "        affine_transform = cv2.getAffineTransform(pts1,pts2)\n",
    "        \n",
    "        img = cv2.warpAffine(image, rotation_matrix, (image.shape[1], image.shape[0]))\n",
    "        img = cv2.warpAffine(image, affine_transform, (image.shape[1], image.shape[0]))\n",
    "        # Add some noise\n",
    "        noise = np.empty_like(img)\n",
    "        cv2.randn(noise, mu, stddev)\n",
    "        result.append(img + noise)\n",
    "        \n",
    "    return (int(number * rate), result)"
   ]
  },
  {
   "cell_type": "code",
   "execution_count": null,
   "metadata": {
    "collapsed": false,
    "deletable": true,
    "editable": true
   },
   "outputs": [],
   "source": []
  },
  {
   "cell_type": "code",
   "execution_count": 7,
   "metadata": {
    "collapsed": false,
    "deletable": true,
    "editable": true
   },
   "outputs": [
    {
     "data": {
      "image/png": "[encoded data removed]",
      "text/plain": [
       "<matplotlib.figure.Figure at 0x12a495e48>"
      ]
     },
     "metadata": {},
     "output_type": "display_data"
    }
   ],
   "source": [
    "number_of_items = [y_list.count(x) for x in range(0, n_classes)]\n",
    "plt.plot(range(0, n_classes), number_of_items, 'ro')\n",
    "plt.show()"
   ]
  },
  {
   "cell_type": "code",
   "execution_count": 8,
   "metadata": {
    "collapsed": false,
    "deletable": true,
    "editable": true
   },
   "outputs": [],
   "source": [
    "from sklearn.utils import shuffle\n",
    "\n",
    "def preprocess(source):\n",
    "    dst = []\n",
    "    \n",
    "    clahe = cv2.createCLAHE(clipLimit=1.0, tileGridSize=(4, 4))\n",
    "    \n",
    "    image_shown = False\n",
    "    \n",
    "    for src in source:\n",
    "        # Improve brightness\n",
    "        lab_image = cv2.cvtColor(src, cv2.COLOR_BGR2LAB)\n",
    "        lab_image[:, :, 0] = clahe.apply(lab_image[:, :, 0])\n",
    "        image = cv2.cvtColor(lab_image, cv2.COLOR_LAB2BGR)\n",
    "    \n",
    "        # Use gray, red and blue channels for the inputs\n",
    "        grayscale = cv2.cvtColor(image, cv2.COLOR_BGR2GRAY)\n",
    "        red = image[:, :, 2]\n",
    "        blue = image[:, :, 0]\n",
    "    \n",
    "        dst.append(np.stack([grayscale, red, blue], axis=2))\n",
    "\n",
    "    return np.array(dst)"
   ]
  },
  {
   "cell_type": "code",
   "execution_count": 9,
   "metadata": {
    "collapsed": false,
    "deletable": true,
    "editable": true
   },
   "outputs": [
    {
     "data": {
      "text/plain": [
       "<matplotlib.image.AxesImage at 0x12bfc9d30>"
      ]
     },
     "execution_count": 9,
     "metadata": {},
     "output_type": "execute_result"
    },
    {
     "data": {
      "image/png": "[encoded data removed]",
      "text/plain": [
       "<matplotlib.figure.Figure at 0x12a5a92e8>"
      ]
     },
     "metadata": {},
     "output_type": "display_data"
    }
   ],
   "source": [
    "X_train = preprocess(X_list)\n",
    "X_valid = preprocess(X_valid)\n",
    "X_test  = preprocess(X_test)\n",
    "\n",
    "image = X_train[index]\n",
    "\n",
    "figure = plt.figure()\n",
    "sp = figure.add_subplot(1, 3, 1)\n",
    "sp.imshow(image[:, :, 0], cmap='gray')\n",
    "sp = figure.add_subplot(1, 3, 2)\n",
    "sp.imshow(255 - image[:, :, 1], cmap='Reds')\n",
    "sp = figure.add_subplot(1, 3, 3)\n",
    "sp.imshow(255 - image[:, :, 2], cmap='Blues')"
   ]
  },
  {
   "cell_type": "markdown",
   "metadata": {
    "deletable": true,
    "editable": true
   },
   "source": [
    "### Model Architecture"
   ]
  },
  {
   "cell_type": "code",
   "execution_count": 10,
   "metadata": {
    "collapsed": false,
    "deletable": true,
    "editable": true
   },
   "outputs": [],
   "source": [
    "from tensorflow.contrib.layers import flatten\n",
    "from tensorflow.contrib.layers import xavier_initializer as init\n",
    "import tensorflow as tf\n",
    "\n",
    "tf.logging.set_verbosity(tf.logging.ERROR)\n",
    "\n",
    "def lrelu(x, leak=0.01, name=\"lrelu\"):\n",
    "     with tf.variable_scope(name):\n",
    "         f1 = 0.5 * (1 + leak)\n",
    "         f2 = 0.5 * (1 - leak)\n",
    "         return f1 * x + f2 * abs(x)"
   ]
  },
  {
   "cell_type": "code",
   "execution_count": 11,
   "metadata": {
    "collapsed": false,
    "deletable": true,
    "editable": true
   },
   "outputs": [],
   "source": [
    "x = tf.placeholder(tf.float32, (None, 32, 32, 3))\n",
    "y = tf.placeholder(tf.int32, (None))\n",
    "keep_prob = tf.placeholder(tf.float32)\n",
    "\n",
    "w0 = tf.get_variable(\"w0\", shape=[1, 1, 3, 3], initializer=init())\n",
    "b0 = tf.get_variable(\"b0\", shape=[3], initializer=init())\n",
    "layer0 = tf.nn.conv2d(x, w0, [1, 1, 1, 1], 'VALID') + b0\n",
    "\n",
    "# Activation.\n",
    "layer0 = tf.nn.elu(layer0)\n",
    "\n",
    "# Layer 1: Convolutional. Input = 32x32x3. Output = 28x28x6.\n",
    "w1 = tf.get_variable(\"w1\", shape=[5, 5, 3, 6], initializer=init())\n",
    "b1 = tf.get_variable(\"b1\", shape=[6], initializer=init())\n",
    "layer1 = tf.nn.conv2d(layer0, w1, [1, 1, 1, 1], 'VALID') + b1\n",
    "\n",
    "# Activation.\n",
    "layer1 = tf.nn.elu(layer1)\n",
    "\n",
    "# Pooling. Input = 30x30x6. Output = 16x16x6.\n",
    "layer1 = tf.nn.max_pool(layer1, ksize=[1, 2, 2, 1], strides=[1, 2, 2, 1], padding='VALID')\n",
    "\n",
    "# Layer 2: Convolutional. Output = 10x10x16.\n",
    "w2 = tf.get_variable(\"w2\", shape=[5, 5, 6, 16], initializer=init())\n",
    "b2 = tf.get_variable(\"b2\", shape=[16], initializer=init())\n",
    "layer2 = tf.nn.conv2d(layer1, w2, [1, 1, 1, 1], 'VALID') + b2\n",
    "    \n",
    "# Activation.\n",
    "layer2 = tf.nn.elu(layer2)\n",
    "\n",
    "# Pooling. Input = 10x10x16. Output = 5x5x16.\n",
    "layer2 = tf.nn.max_pool(layer2, ksize=[1, 2, 2, 1], strides=[1, 2, 2, 1], padding='VALID')\n",
    "\n",
    "# Flatten. Input = 5x5x16, 14x14x6. Output = 400 + 1176 = 1576.\n",
    "layer3 = flatten(layer2)\n",
    "\n",
    "# Layer 3: Fully Connected. Input = 1576. Output = 120.\n",
    "w3 = tf.get_variable(\"w3\", shape=[400, 400], initializer=init())\n",
    "b3 = tf.get_variable(\"b3\", shape=[400], initializer=init())\n",
    "layer3 = tf.add(tf.matmul(layer3, w3), b3)\n",
    "\n",
    "# Activation.\n",
    "layer3 = tf.nn.elu(layer3)\n",
    "\n",
    "# Dropout\n",
    "layer3 = tf.nn.dropout(layer3, keep_prob)\n",
    "\n",
    "# Layer 4: Fully Connected. Input = 120. Output = 84.\n",
    "w4 = tf.get_variable(\"w4\", shape=[400, 200], initializer=init())\n",
    "b4 = tf.get_variable(\"b4\", shape=[200], initializer=init())\n",
    "layer4 = tf.add(tf.matmul(layer3, w4), b4)\n",
    "\n",
    "# Activation.\n",
    "layer4 = tf.nn.elu(layer4)\n",
    "\n",
    "# Dropout\n",
    "layer4 = tf.nn.dropout(layer4, keep_prob)\n",
    "\n",
    "# Layer 5: Fully Connected. Input = 84. Output = n_classes.\n",
    "w5 = tf.get_variable(\"w5\", shape=[200, n_classes], initializer=init())\n",
    "b5 = tf.get_variable(\"b5\", shape=[n_classes], initializer=init())\n",
    "logits = tf.add(tf.matmul(layer4, w5), b5)"
   ]
  },
  {
   "cell_type": "markdown",
   "metadata": {
    "deletable": true,
    "editable": true
   },
   "source": [
    "### Train, Validate and Test the Model"
   ]
  },
  {
   "cell_type": "markdown",
   "metadata": {
    "deletable": true,
    "editable": true
   },
   "source": [
    "A validation set can be used to assess how well the model is performing. A low accuracy on the training and validation\n",
    "sets imply underfitting. A high accuracy on the training set but low accuracy on the validation set implies overfitting."
   ]
  },
  {
   "cell_type": "code",
   "execution_count": 27,
   "metadata": {
    "collapsed": false,
    "deletable": true,
    "editable": true
   },
   "outputs": [],
   "source": [
    "one_hot_y = tf.one_hot(y, n_classes)\n",
    "\n",
    "rate = 0.001\n",
    "\n",
    "EPOCHS = 30\n",
    "BATCH_SIZE = 256\n",
    "\n",
    "cross_entropy = tf.nn.softmax_cross_entropy_with_logits(logits=logits, labels=one_hot_y)\n",
    "loss_operation = tf.reduce_mean(cross_entropy)\n",
    "optimizer = tf.train.AdamOptimizer(learning_rate = rate)\n",
    "training_operation = optimizer.minimize(loss_operation)"
   ]
  },
  {
   "cell_type": "code",
   "execution_count": 28,
   "metadata": {
    "collapsed": true,
    "deletable": true,
    "editable": true
   },
   "outputs": [],
   "source": [
    "correct_prediction = tf.equal(tf.argmax(logits, 1), tf.argmax(one_hot_y, 1))\n",
    "accuracy_operation = tf.reduce_mean(tf.cast(correct_prediction, tf.float32))\n",
    "saver = tf.train.Saver()\n",
    "\n",
    "def evaluate(X_data, y_data):\n",
    "    num_examples = len(X_data)\n",
    "    total_accuracy = 0\n",
    "    total_loss = 0\n",
    "    sess = tf.get_default_session()\n",
    "    for offset in range(0, num_examples, BATCH_SIZE):\n",
    "        batch_x, batch_y = X_data[offset:offset+BATCH_SIZE], y_data[offset:offset+BATCH_SIZE]\n",
    "        accuracy = sess.run(accuracy_operation, feed_dict={x: batch_x, y: batch_y, keep_prob: 1.0})\n",
    "        loss = sess.run(loss_operation, feed_dict={x: batch_x, y: batch_y, keep_prob: 1.0})\n",
    "        total_accuracy += (accuracy * len(batch_x))\n",
    "        total_loss += loss\n",
    "    return (total_loss, total_accuracy / num_examples)"
   ]
  },
  {
   "cell_type": "code",
   "execution_count": 29,
   "metadata": {
    "collapsed": false,
    "deletable": true,
    "editable": true,
    "scrolled": true
   },
   "outputs": [
    {
     "name": "stdout",
     "output_type": "stream",
     "text": [
      "Training...\n",
      "\n",
      "EPOCH 1 ...\n",
      "Validation Accuracy = 0.621\n",
      "Validation Loss = 23.963\n",
      "Time elapsed: 81.184281 seconds\n",
      "\n",
      "EPOCH 2 ...\n",
      "Validation Accuracy = 0.772\n",
      "Validation Loss = 13.654\n",
      "Time elapsed: 24.594518 seconds\n",
      "\n",
      "EPOCH 3 ...\n",
      "Validation Accuracy = 0.821\n",
      "Validation Loss = 10.879\n",
      "Time elapsed: 23.519201 seconds\n",
      "\n",
      "EPOCH 4 ...\n",
      "Validation Accuracy = 0.849\n",
      "Validation Loss = 9.754\n",
      "Time elapsed: 40.224773 seconds\n",
      "\n",
      "EPOCH 5 ...\n",
      "Validation Accuracy = 0.866\n",
      "Validation Loss = 9.260\n",
      "Time elapsed: 30.554014 seconds\n",
      "\n",
      "EPOCH 6 ...\n",
      "Validation Accuracy = 0.868\n",
      "Validation Loss = 8.436\n",
      "Time elapsed: 30.32321 seconds\n",
      "\n",
      "EPOCH 7 ...\n",
      "Validation Accuracy = 0.884\n",
      "Validation Loss = 7.767\n",
      "Time elapsed: 50.180078 seconds\n",
      "\n",
      "EPOCH 8 ...\n",
      "Validation Accuracy = 0.888\n",
      "Validation Loss = 8.042\n",
      "Time elapsed: 34.176744 seconds\n",
      "\n",
      "EPOCH 9 ...\n",
      "Validation Accuracy = 0.888\n",
      "Validation Loss = 7.740\n",
      "Time elapsed: 33.698467 seconds\n",
      "\n",
      "EPOCH 10 ...\n",
      "Validation Accuracy = 0.891\n",
      "Validation Loss = 7.750\n",
      "Time elapsed: 33.122252 seconds\n",
      "\n",
      "EPOCH 11 ...\n",
      "Validation Accuracy = 0.891\n",
      "Validation Loss = 7.403\n",
      "Time elapsed: 27.431688 seconds\n",
      "\n",
      "EPOCH 12 ...\n",
      "Validation Accuracy = 0.899\n",
      "Validation Loss = 7.480\n",
      "Time elapsed: 34.251702 seconds\n",
      "\n",
      "EPOCH 13 ...\n",
      "Validation Accuracy = 0.891\n",
      "Validation Loss = 7.424\n",
      "Time elapsed: 26.94686 seconds\n",
      "\n",
      "EPOCH 14 ...\n",
      "Validation Accuracy = 0.894\n",
      "Validation Loss = 7.428\n",
      "Time elapsed: 25.813028 seconds\n",
      "\n",
      "EPOCH 15 ...\n",
      "Validation Accuracy = 0.899\n",
      "Validation Loss = 8.112\n",
      "Time elapsed: 34.39601 seconds\n",
      "\n",
      "EPOCH 16 ...\n",
      "Validation Accuracy = 0.901\n",
      "Validation Loss = 7.666\n",
      "Time elapsed: 34.398705 seconds\n",
      "\n",
      "EPOCH 17 ...\n",
      "Validation Accuracy = 0.905\n",
      "Validation Loss = 7.328\n",
      "Time elapsed: 34.455046 seconds\n",
      "\n",
      "EPOCH 18 ...\n",
      "Validation Accuracy = 0.905\n",
      "Validation Loss = 7.895\n",
      "Time elapsed: 30.252464 seconds\n",
      "\n",
      "EPOCH 19 ...\n",
      "Validation Accuracy = 0.897\n",
      "Validation Loss = 8.293\n",
      "Time elapsed: 29.062603 seconds\n",
      "\n",
      "EPOCH 20 ...\n",
      "Validation Accuracy = 0.898\n",
      "Validation Loss = 8.115\n",
      "Time elapsed: 32.856317 seconds\n",
      "\n",
      "EPOCH 21 ...\n",
      "Validation Accuracy = 0.901\n",
      "Validation Loss = 7.778\n",
      "Time elapsed: 30.739139 seconds\n",
      "\n",
      "EPOCH 22 ...\n",
      "Validation Accuracy = 0.898\n",
      "Validation Loss = 8.241\n",
      "Time elapsed: 29.443486 seconds\n",
      "\n",
      "EPOCH 23 ...\n",
      "Validation Accuracy = 0.903\n",
      "Validation Loss = 7.922\n",
      "Time elapsed: 28.745896 seconds\n",
      "\n",
      "EPOCH 24 ...\n",
      "Validation Accuracy = 0.906\n",
      "Validation Loss = 8.222\n",
      "Time elapsed: 27.978285 seconds\n",
      "\n",
      "EPOCH 25 ...\n",
      "Validation Accuracy = 0.908\n",
      "Validation Loss = 7.572\n",
      "Time elapsed: 28.037477 seconds\n",
      "\n",
      "EPOCH 26 ...\n",
      "Validation Accuracy = 0.917\n",
      "Validation Loss = 7.244\n",
      "Time elapsed: 26.252833 seconds\n",
      "\n",
      "EPOCH 27 ...\n",
      "Validation Accuracy = 0.905\n",
      "Validation Loss = 8.030\n",
      "Time elapsed: 27.695898 seconds\n",
      "\n",
      "EPOCH 28 ...\n",
      "Validation Accuracy = 0.911\n",
      "Validation Loss = 7.447\n",
      "Time elapsed: 29.637129 seconds\n",
      "\n",
      "EPOCH 29 ...\n",
      "Validation Accuracy = 0.912\n",
      "Validation Loss = 7.739\n",
      "Time elapsed: 27.584228 seconds\n",
      "\n",
      "EPOCH 30 ...\n",
      "Validation Accuracy = 0.906\n",
      "Validation Loss = 7.960\n",
      "Time elapsed: 27.326877 seconds\n",
      "\n",
      "Model saved\n"
     ]
    }
   ],
   "source": [
    "from datetime import datetime\n",
    "\n",
    "with tf.Session() as sess:\n",
    "    \n",
    "    sess.run(tf.global_variables_initializer())\n",
    "    num_examples = len(X_train)\n",
    "    \n",
    "    print(\"Training...\")\n",
    "    print()\n",
    "    for i in range(EPOCHS):\n",
    "        time = datetime.now()\n",
    "        X_aug, y_aug = list(X_train), list(y_train)\n",
    "        max_items = max(number_of_items)\n",
    "        for index in range(0, n_classes):\n",
    "           items_added, result = augment(i, max_items - number_of_items[i], rate=0.9 ** i)\n",
    "           X_aug += result\n",
    "           y_aug += ([index] * (items_added)) \n",
    "        X_aug, y_aug = shuffle(X_aug, y_aug)\n",
    "        \n",
    "        num_examples = len(X_aug)\n",
    "        for offset in range(0, num_examples, BATCH_SIZE):\n",
    "            end = offset + BATCH_SIZE\n",
    "            batch_x, batch_y = X_aug[offset:end], y_aug[offset:end]\n",
    "            sess.run(training_operation, feed_dict={x: batch_x, y: batch_y, keep_prob: 0.5})\n",
    "            \n",
    "        loss, validation_accuracy = evaluate(X_valid, y_valid)\n",
    "        print(\"EPOCH {} ...\".format(i+1))\n",
    "        print(\"Validation Accuracy = {:.3f}\".format(validation_accuracy))\n",
    "        print(\"Validation Loss = {:.3f}\".format(loss))\n",
    "        print(\"Time elapsed: {} seconds\".format((datetime.now() - time).total_seconds()))\n",
    "        print()\n",
    "        \n",
    "    saver.save(sess, './lenet')\n",
    "    print(\"Model saved\")"
   ]
  },
  {
   "cell_type": "code",
   "execution_count": 30,
   "metadata": {
    "collapsed": false,
    "deletable": true,
    "editable": true,
    "scrolled": true
   },
   "outputs": [
    {
     "name": "stdout",
     "output_type": "stream",
     "text": [
      "Test Accuracy = 0.906\n"
     ]
    }
   ],
   "source": [
    "with tf.Session() as sess:\n",
    "    saver.restore(sess, tf.train.latest_checkpoint('.'))\n",
    "    loss, test_accuracy = evaluate(X_test, y_test)\n",
    "    print(\"Test Accuracy = {:.3f}\".format(test_accuracy))"
   ]
  },
  {
   "cell_type": "markdown",
   "metadata": {
    "deletable": true,
    "editable": true
   },
   "source": [
    "---\n",
    "\n",
    "## Step 3: Test a Model on New Images\n",
    "\n",
    "To give yourself more insight into how your model is working, download at least five pictures of German traffic signs from the web and use your model to predict the traffic sign type.\n",
    "\n",
    "You may find `signnames.csv` useful as it contains mappings from the class id (integer) to the actual sign name."
   ]
  },
  {
   "cell_type": "markdown",
   "metadata": {
    "deletable": true,
    "editable": true
   },
   "source": [
    "### Load and Output the Images"
   ]
  },
  {
   "cell_type": "code",
   "execution_count": 18,
   "metadata": {
    "collapsed": false,
    "deletable": true,
    "editable": true
   },
   "outputs": [
    {
     "name": "stdout",
     "output_type": "stream",
     "text": [
      "Number of files: 10\n"
     ]
    },
    {
     "data": {
      "image/png": "[encoded data removed]",
      "text/plain": [
       "<matplotlib.figure.Figure at 0x12c01cf98>"
      ]
     },
     "metadata": {},
     "output_type": "display_data"
    }
   ],
   "source": [
    "### Load the images and plot them here.\n",
    "### Feel free to use as many code cells as needed.\n",
    "import os\n",
    "\n",
    "files = list(filter(lambda f: not f.startswith('.'), os.listdir('custom_signs')))\n",
    "signs_num = len(files)\n",
    "\n",
    "print(\"Number of files: {}\".format(signs_num))\n",
    "\n",
    "X = np.zeros((signs_num, 32, 32, 3), dtype=np.uint8)\n",
    "Y = np.zeros(len(X), dtype=np.uint8)\n",
    "\n",
    "figure = plt.figure('Images', [20, 20])\n",
    "for index, file in enumerate(files):\n",
    "    X[index, :, :, :] = cv2.cvtColor(cv2.imread('custom_signs/' + file, 1), cv2.COLOR_BGR2RGB)\n",
    "    Y[index] = file.partition(\".\")[0]\n",
    "    \n",
    "    # Find training image with the same label for comparison\n",
    "    train_indices = np.where(y_train==Y[index])\n",
    "    train_image = X_train[train_indices[0][0]]\n",
    "    \n",
    "    sp = figure.add_subplot(signs_num, 2, index * 2 + 1)\n",
    "    sp.imshow(X[index, :, :, :])\n",
    "    sp = figure.add_subplot(signs_num, 2, index * 2 + 2)\n",
    "    sp.imshow(train_image)\n",
    "\n",
    "X = preprocess(X)"
   ]
  },
  {
   "cell_type": "markdown",
   "metadata": {
    "deletable": true,
    "editable": true
   },
   "source": [
    "### Predict the Sign Type for Each Image"
   ]
  },
  {
   "cell_type": "code",
   "execution_count": 31,
   "metadata": {
    "collapsed": false,
    "deletable": true,
    "editable": true
   },
   "outputs": [
    {
     "name": "stdout",
     "output_type": "stream",
     "text": [
      "[42 35 14 20 11 34 26 11 32 35]\n",
      "[ 1 10 14 20 21 25 26 28 32 35]\n"
     ]
    }
   ],
   "source": [
    "### Run the predictions here and use the model to output the prediction for each image.\n",
    "### Make sure to pre-process the images with the same pre-processing pipeline used earlier.\n",
    "### Feel free to use as many code cells as needed.\n",
    "with tf.Session() as sess:\n",
    "    saver.restore(sess, tf.train.latest_checkpoint('.'))\n",
    "    predictions = sess.run(tf.argmax(logits, 1), feed_dict={x: X, y: Y, keep_prob: 1.0})\n",
    "    print(predictions)\n",
    "    print(Y)\n",
    "    #print(\"Test Accuracy = {:.3f}\".format(test_accuracy))"
   ]
  },
  {
   "cell_type": "markdown",
   "metadata": {
    "deletable": true,
    "editable": true
   },
   "source": [
    "### Analyze Performance"
   ]
  },
  {
   "cell_type": "code",
   "execution_count": 20,
   "metadata": {
    "collapsed": true,
    "deletable": true,
    "editable": true
   },
   "outputs": [],
   "source": [
    "### Calculate the accuracy for these 5 new images. \n",
    "### For example, if the model predicted 1 out of 5 signs correctly, it's 20% accurate on these new images."
   ]
  },
  {
   "cell_type": "markdown",
   "metadata": {
    "deletable": true,
    "editable": true
   },
   "source": [
    "### Output Top 5 Softmax Probabilities For Each Image Found on the Web"
   ]
  },
  {
   "cell_type": "markdown",
   "metadata": {
    "deletable": true,
    "editable": true
   },
   "source": [
    "For each of the new images, print out the model's softmax probabilities to show the **certainty** of the model's predictions (limit the output to the top 5 probabilities for each image). [`tf.nn.top_k`](https://www.tensorflow.org/versions/r0.12/api_docs/python/nn.html#top_k) could prove helpful here. \n",
    "\n",
    "The example below demonstrates how tf.nn.top_k can be used to find the top k predictions for each image.\n",
    "\n",
    "`tf.nn.top_k` will return the values and indices (class ids) of the top k predictions. So if k=3, for each sign, it'll return the 3 largest probabilities (out of a possible 43) and the correspoding class ids.\n",
    "\n",
    "Take this numpy array as an example. The values in the array represent predictions. The array contains softmax probabilities for five candidate images with six possible classes. `tk.nn.top_k` is used to choose the three classes with the highest probability:\n",
    "\n",
    "```\n",
    "# (5, 6) array\n",
    "a = np.array([[ 0.24879643,  0.07032244,  0.12641572,  0.34763842,  0.07893497,\n",
    "         0.12789202],\n",
    "       [ 0.28086119,  0.27569815,  0.08594638,  0.0178669 ,  0.18063401,\n",
    "         0.15899337],\n",
    "       [ 0.26076848,  0.23664738,  0.08020603,  0.07001922,  0.1134371 ,\n",
    "         0.23892179],\n",
    "       [ 0.11943333,  0.29198961,  0.02605103,  0.26234032,  0.1351348 ,\n",
    "         0.16505091],\n",
    "       [ 0.09561176,  0.34396535,  0.0643941 ,  0.16240774,  0.24206137,\n",
    "         0.09155967]])\n",
    "```\n",
    "\n",
    "Running it through `sess.run(tf.nn.top_k(tf.constant(a), k=3))` produces:\n",
    "\n",
    "```\n",
    "TopKV2(values=array([[ 0.34763842,  0.24879643,  0.12789202],\n",
    "       [ 0.28086119,  0.27569815,  0.18063401],\n",
    "       [ 0.26076848,  0.23892179,  0.23664738],\n",
    "       [ 0.29198961,  0.26234032,  0.16505091],\n",
    "       [ 0.34396535,  0.24206137,  0.16240774]]), indices=array([[3, 0, 5],\n",
    "       [0, 1, 4],\n",
    "       [0, 5, 1],\n",
    "       [1, 3, 5],\n",
    "       [1, 4, 3]], dtype=int32))\n",
    "```\n",
    "\n",
    "Looking just at the first row we get `[ 0.34763842,  0.24879643,  0.12789202]`, you can confirm these are the 3 largest probabilities in `a`. You'll also notice `[3, 0, 5]` are the corresponding indices."
   ]
  },
  {
   "cell_type": "code",
   "execution_count": 25,
   "metadata": {
    "collapsed": false,
    "deletable": true,
    "editable": true
   },
   "outputs": [
    {
     "name": "stdout",
     "output_type": "stream",
     "text": [
      "TopKV2(values=array([[ 6.91052485,  3.02674055,  2.31716561,  2.03193235,  1.76974976]], dtype=float32), indices=array([[14, 17, 28, 33,  9]], dtype=int32))\n",
      "[ 1 10 14 20 21 25 26 28 32 35]\n"
     ]
    }
   ],
   "source": [
    "with tf.Session() as sess:\n",
    "    saver.restore(sess, tf.train.latest_checkpoint('.'))\n",
    "    predictions = sess.run(tf.nn.top_k(logits, k=5), feed_dict={x: [X[2]], y: [Y[5]], keep_prob: 1.0})\n",
    "    print(predictions)\n",
    "    print(Y)"
   ]
  },
  {
   "cell_type": "markdown",
   "metadata": {
    "deletable": true,
    "editable": true
   },
   "source": [
    "---\n",
    "\n",
    "## Step 4: Visualize the Neural Network's State with Test Images\n",
    "\n",
    " This Section is not required to complete but acts as an additional excersise for understaning the output of a neural network's weights. While neural networks can be a great learning device they are often referred to as a black box. We can understand what the weights of a neural network look like better by plotting their feature maps. After successfully training your neural network you can see what it's feature maps look like by plotting the output of the network's weight layers in response to a test stimuli image. From these plotted feature maps, it's possible to see what characteristics of an image the network finds interesting. For a sign, maybe the inner network feature maps react with high activation to the sign's boundary outline or to the contrast in the sign's painted symbol.\n",
    "\n",
    " Provided for you below is the function code that allows you to get the visualization output of any tensorflow weight layer you want. The inputs to the function should be a stimuli image, one used during training or a new one you provided, and then the tensorflow variable name that represents the layer's state during the training process, for instance if you wanted to see what the [LeNet lab's](https://classroom.udacity.com/nanodegrees/nd013/parts/fbf77062-5703-404e-b60c-95b78b2f3f9e/modules/6df7ae49-c61c-4bb2-a23e-6527e69209ec/lessons/601ae704-1035-4287-8b11-e2c2716217ad/concepts/d4aca031-508f-4e0b-b493-e7b706120f81) feature maps looked like for it's second convolutional layer you could enter conv2 as the tf_activation variable.\n",
    "\n",
    "For an example of what feature map outputs look like, check out NVIDIA's results in their paper [End-to-End Deep Learning for Self-Driving Cars](https://devblogs.nvidia.com/parallelforall/deep-learning-self-driving-cars/) in the section Visualization of internal CNN State. NVIDIA was able to show that their network's inner weights had high activations to road boundary lines by comparing feature maps from an image with a clear path to one without. Try experimenting with a similar test to show that your trained network's weights are looking for interesting features, whether it's looking at differences in feature maps from images with or without a sign, or even what feature maps look like in a trained network vs a completely untrained one on the same sign image.\n",
    "\n",
    "<figure>\n",
    " <img src=\"visualize_cnn.png\" width=\"380\" alt=\"Combined Image\" />\n",
    " <figcaption>\n",
    " <p></p> \n",
    " <p style=\"text-align: center;\"> Your output should look something like this (above)</p> \n",
    " </figcaption>\n",
    "</figure>\n",
    " <p></p> \n"
   ]
  },
  {
   "cell_type": "code",
   "execution_count": 22,
   "metadata": {
    "collapsed": true,
    "deletable": true,
    "editable": true
   },
   "outputs": [],
   "source": [
    "### Visualize your network's feature maps here.\n",
    "### Feel free to use as many code cells as needed.\n",
    "\n",
    "# image_input: the test image being fed into the network to produce the feature maps\n",
    "# tf_activation: should be a tf variable name used during your training procedure that represents the calculated state of a specific weight layer\n",
    "# activation_min/max: can be used to view the activation contrast in more detail, by default matplot sets min and max to the actual min and max values of the output\n",
    "# plt_num: used to plot out multiple different weight feature map sets on the same block, just extend the plt number for each new feature map entry\n",
    "\n",
    "def outputFeatureMap(image_input, tf_activation, activation_min=-1, activation_max=-1 ,plt_num=1):\n",
    "    # Here make sure to preprocess your image_input in a way your network expects\n",
    "    # with size, normalization, ect if needed\n",
    "    # image_input =\n",
    "    # Note: x should be the same name as your network's tensorflow data placeholder variable\n",
    "    # If you get an error tf_activation is not defined it maybe having trouble accessing the variable from inside a function\n",
    "    activation = tf_activation.eval(session=sess,feed_dict={x : image_input})\n",
    "    print(activation.shape)\n",
    "    featuremaps = activation.shape[3]\n",
    "    plt.figure(plt_num, figsize=(15,15))\n",
    "    for featuremap in range(featuremaps):\n",
    "        plt.subplot(6,8, featuremap+1) # sets the number of feature maps to show on each row and column\n",
    "        plt.title('FeatureMap ' + str(featuremap)) # displays the feature map number\n",
    "        if activation_min != -1 & activation_max != -1:\n",
    "            plt.imshow(activation[0,:,:, featuremap], interpolation=\"nearest\", vmin=activation_min, vmax=activation_max, cmap=\"gray\")\n",
    "        elif activation_max != -1:\n",
    "            plt.imshow(activation[0,:,:, featuremap], interpolation=\"nearest\", vmax=activation_max, cmap=\"gray\")\n",
    "        elif activation_min !=-1:\n",
    "            plt.imshow(activation[0,:,:, featuremap], interpolation=\"nearest\", vmin=activation_min, cmap=\"gray\")\n",
    "        else:\n",
    "            plt.imshow(activation[0,:,:, featuremap], interpolation=\"nearest\", cmap=\"gray\")\n",
    "            \n"
   ]
  },
  {
   "cell_type": "code",
   "execution_count": 23,
   "metadata": {
    "collapsed": true
   },
   "outputs": [],
   "source": [
    "randomImage = X_train[random.randint(0, len(X_train))]"
   ]
  },
  {
   "cell_type": "code",
   "execution_count": 24,
   "metadata": {
    "collapsed": false,
    "deletable": true,
    "editable": true,
    "scrolled": true
   },
   "outputs": [
    {
     "name": "stdout",
     "output_type": "stream",
     "text": [
      "(1, 14, 14, 6)\n"
     ]
    },
    {
     "data": {
      "image/png": "[encoded data removed]",
      "text/plain": [
       "<matplotlib.figure.Figure at 0x13662f908>"
      ]
     },
     "metadata": {},
     "output_type": "display_data"
    }
   ],
   "source": [
    "with tf.Session() as sess:\n",
    "    saver.restore(sess, tf.train.latest_checkpoint('.'))\n",
    "    outputFeatureMap([randomImage], layer1)"
   ]
  },
  {
   "cell_type": "markdown",
   "metadata": {
    "deletable": true,
    "editable": true
   },
   "source": [
    "### Question 9\n",
    "\n",
    "Discuss how you used the visual output of your trained network's feature maps to show that it had learned to look for interesting characteristics in traffic sign images\n"
   ]
  },
  {
   "cell_type": "markdown",
   "metadata": {
    "deletable": true,
    "editable": true
   },
   "source": [
    "**Answer:**"
   ]
  },
  {
   "cell_type": "markdown",
   "metadata": {
    "deletable": true,
    "editable": true
   },
   "source": [
    "> **Note**: Once you have completed all of the code implementations and successfully answered each question above, you may finalize your work by exporting the iPython Notebook as an HTML document. You can do this by using the menu above and navigating to  \\n\",\n",
    "    \"**File -> Download as -> HTML (.html)**. Include the finished document along with this notebook as your submission."
   ]
  },
  {
   "cell_type": "markdown",
   "metadata": {
    "deletable": true,
    "editable": true
   },
   "source": [
    "### Project Writeup\n",
    "\n",
    "Once you have completed the code implementation, document your results in a project writeup using this [template](https://github.com/udacity/CarND-Traffic-Sign-Classifier-Project/blob/master/writeup_template.md) as a guide. The writeup can be in a markdown or pdf file. "
   ]
  },
  {
   "cell_type": "code",
   "execution_count": null,
   "metadata": {
    "collapsed": true,
    "deletable": true,
    "editable": true
   },
   "outputs": [],
   "source": []
  }
 ],
 "metadata": {
  "anaconda-cloud": {},
  "kernelspec": {
   "display_name": "Python 3",
   "language": "python",
   "name": "python3"
  },
  "language_info": {
   "codemirror_mode": {
    "name": "ipython",
    "version": 3
   },
   "file_extension": ".py",
   "mimetype": "text/x-python",
   "name": "python",
   "nbconvert_exporter": "python",
   "pygments_lexer": "ipython3",
   "version": "3.5.2"
  },
  "widgets": {
   "state": {},
   "version": "1.1.2"
  }
 },
 "nbformat": 4,
 "nbformat_minor": 1
}
